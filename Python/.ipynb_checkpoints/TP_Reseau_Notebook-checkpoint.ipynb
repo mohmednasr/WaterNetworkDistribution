{
 "cells": [
  {
   "cell_type": "markdown",
   "metadata": {},
   "source": [
    "# Travaux pratiques sur les réseaux d'eau"
   ]
  },
  {
   "cell_type": "markdown",
   "metadata": {},
   "source": [
    "## 0. Données et fonctions du problème"
   ]
  },
  {
   "cell_type": "markdown",
   "metadata": {},
   "source": [
    "### On charge dans l'environnement :\n",
    "1. les fonctions de Python qui seront utilisées,\n",
    "2. les données du problème,\n",
    "3. les fonctions utilitaires du problème."
   ]
  },
  {
   "cell_type": "code",
   "execution_count": 1,
   "metadata": {},
   "outputs": [],
   "source": [
    "from numpy import random\n",
    "import numpy as np"
   ]
  },
  {
   "cell_type": "code",
   "execution_count": 2,
   "metadata": {},
   "outputs": [],
   "source": [
    "from Probleme_R import *\n",
    "from Structures_N import *"
   ]
  },
  {
   "cell_type": "code",
   "execution_count": 3,
   "metadata": {},
   "outputs": [],
   "source": [
    "from Visualg import Visualg\n",
    "from Verification import Verification"
   ]
  },
  {
   "cell_type": "markdown",
   "metadata": {},
   "source": [
    "###  On charge les prototypes d'algorithmes d'optimisation :\n",
    "\n",
    "* **Gradient_F** : algorithme de gradient à pas fixe,\n",
    "* **Newton_F** : algorithme de Newton à pas fixe."
   ]
  },
  {
   "cell_type": "code",
   "execution_count": 4,
   "metadata": {},
   "outputs": [],
   "source": [
    "def Gradient_F(Oracle, x0, alpha0):\n",
    "    \n",
    "    from numpy.linalg import norm\n",
    "    from time import process_time\n",
    "    \n",
    "    ##### Initialisation des variables\n",
    "    \n",
    "    iter_max = 10000\n",
    "    gradient_step = alpha0\n",
    "    threshold = 0.000001\n",
    "    \n",
    "    gradient_norm_list = []\n",
    "    gradient_step_list = []\n",
    "    critere_list = []\n",
    "\n",
    "    time_start = process_time()\n",
    "    \n",
    "    x = x0\n",
    "\n",
    "    ##### Boucle sur les iterations\n",
    "\n",
    "    for k in range(iter_max):\n",
    "        \n",
    "        # Valeur du critere et du gradient\n",
    "        critere, gradient = Oracle(x)\n",
    "\n",
    "        # Test de convergence\n",
    "        gradient_norm = norm(gradient)\n",
    "        if gradient_norm <= threshold:\n",
    "            break\n",
    "\n",
    "        # Direction de descente\n",
    "        direction = -gradient\n",
    "        \n",
    "        # Mise a jour des variables\n",
    "        x = x + (gradient_step*direction)\n",
    "        \n",
    "        # Evolution du gradient, du pas, et du critere\n",
    "        gradient_norm_list.append(gradient_norm)\n",
    "        gradient_step_list.append(gradient_step)\n",
    "        critere_list.append(critere)\n",
    "    \n",
    "    ##### Resultats de l'optimisation\n",
    "\n",
    "    critere_opt = critere\n",
    "    gradient_opt = gradient\n",
    "    x_opt = x\n",
    "    time_cpu = process_time() - time_start\n",
    "    \n",
    "    print()\n",
    "    print('Iteration :', k)\n",
    "    print('Temps CPU :', time_cpu)\n",
    "    print('Critere optimal :', critere_opt)\n",
    "    print('Norme du gradient :', norm(gradient_opt))\n",
    "    \n",
    "    # Visualisation de la convergence\n",
    "    Visualg(gradient_norm_list, gradient_step_list, critere_list)\n",
    "    \n",
    "    return critere_opt, gradient_opt, x_opt"
   ]
  },
  {
   "cell_type": "code",
   "execution_count": 5,
   "metadata": {},
   "outputs": [],
   "source": [
    "def Newton_F(Oracle, x0, alpha0):\n",
    "    \n",
    "    from numpy.linalg import norm\n",
    "    from numpy.linalg import solve\n",
    "    from time import process_time\n",
    "    \n",
    "    ##### Initialisation des variables    \n",
    "    \n",
    "    iter_max = 100\n",
    "    gradient_step = alpha0\n",
    "    threshold = 0.000001\n",
    "    \n",
    "    gradient_norm_list = []\n",
    "    gradient_step_list = []\n",
    "    critere_list = []\n",
    "\n",
    "    time_start = process_time()\n",
    "    \n",
    "    x = x0\n",
    "\n",
    "    ##### Boucle sur les iterations\n",
    "    \n",
    "    for k in range(iter_max):\n",
    "        \n",
    "        # Valeur du critere et du gradient\n",
    "        critere, gradient, hessien = Oracle(x)\n",
    "\n",
    "        # Test de convergence\n",
    "        gradient_norm = norm(gradient)\n",
    "        if gradient_norm <= threshold:\n",
    "            break\n",
    "        \n",
    "        # Direction de descente\n",
    "        direction = - solve(hessien, gradient)\n",
    "        \n",
    "        # Mise a jour des variables\n",
    "        x = x + (gradient_step*direction)\n",
    "        \n",
    "        # Evolution du gradient, du pas, et du critere\n",
    "        gradient_norm_list.append(gradient_norm)\n",
    "        gradient_step_list.append(gradient_step)\n",
    "        critere_list.append(critere)\n",
    "   \n",
    "    ##### Resultats de l'optimisation\n",
    "    \n",
    "    critere_opt = critere\n",
    "    gradient_opt = gradient\n",
    "    x_opt = x\n",
    "    time_cpu = process_time() - time_start\n",
    "\n",
    "    print()\n",
    "    print('Iteration :', k)\n",
    "    print('Temps CPU :', time_cpu)\n",
    "    print('Critere optimal :', critere_opt)\n",
    "    print('Norme du gradient :', norm(gradient_opt))\n",
    "    \n",
    "    # Visualisation de la convergence\n",
    "    Visualg(gradient_norm_list, gradient_step_list, critere_list)\n",
    "    \n",
    "    return critere_opt, gradient_opt, x_opt"
   ]
  },
  {
   "cell_type": "markdown",
   "metadata": {},
   "source": [
    "## I. Résolution du problème primal"
   ]
  },
  {
   "cell_type": "code",
   "execution_count": 6,
   "metadata": {},
   "outputs": [],
   "source": [
    "from HydrauliqueP import HydrauliqueP"
   ]
  },
  {
   "cell_type": "markdown",
   "metadata": {},
   "source": [
    "### I.a On écrit les oracles pour le problème primal d'optimisation :\n",
    "\n",
    "* **OraclePG** : calcul de la fonction et du gradient,\n",
    "* **OraclePH** : calcul de la fonction du gradient et du Hessien."
   ]
  },
  {
   "cell_type": "code",
   "execution_count": 7,
   "metadata": {},
   "outputs": [],
   "source": [
    "def OraclePG(qc):\n",
    "    \n",
    "    ## ---> A COMPLETER\n",
    "    # at first I need to check dimension for each variable \n",
    "    #print('r')\n",
    "    #print(r).shape)\n",
    "    #print(r)\n",
    "    \n",
    "    # then I will change some of them \n",
    "    #(r).reshape(-1,1)\n",
    "    #(q0).reshape(-1,1)\n",
    "    #(qc).reshape(-1,1)\n",
    "    w = q0+(B @ qc)\n",
    "    critere = (1/3)* ((w)@(r * w * (np.absolute(w)))) + (pr @ (Ar @ w))\n",
    "\n",
    "    #critere = (1/3) * np.dot(w, r*w*np.absolute(w)) + np.dot(pr, Ar @ w)\n",
    "    #print(critere)\n",
    "    \n",
    "    #(pr).reshape(-1,1)\n",
    "    ## ---> A COMPLETER\n",
    "    \n",
    "    #gradient = B.T @ (r*(q0 + (B @ qc))*(np.absolute(q0 + (B @ qc)))) + B.T @ Ar.T @ pr\n",
    "    gradient = B.T @ (r * w * np.absolute(w)) + B.T @ Ar.T @ pr\n",
    "    \n",
    "    #print(gradient)\n",
    "    return critere, gradient"
   ]
  },
  {
   "cell_type": "code",
   "execution_count": 8,
   "metadata": {},
   "outputs": [],
   "source": [
    "def OraclePH(qc):\n",
    "    \n",
    "    ## ---> A COMPLETER\n",
    "    #(r).reshape(-1,1)\n",
    "    #(q0).reshape(-1,1)\n",
    "    #(qc).reshape(-1,1)\n",
    "    \n",
    "    #critere = (1/3)* ((q0+(B @ qc))@(r*(q0 + (B @ qc))*(np.absolute(q0 + (B @ qc))))) + pr @ (Ar @ (q0 + (B @ qc)))\n",
    "    w = q0+(B @ qc)\n",
    "    critere = (1/3) * np.dot(w, r*w*np.absolute(w)) + np.dot(pr, Ar @ w)\n",
    "    #print(critere)\n",
    "    \n",
    "    #(pr).reshape(-1,1)\n",
    "    ## ---> A COMPLETER\n",
    "    \n",
    "    #gradient = B.T @ (r*(q0 + (B @ qc))*(np.absolute(q0 + (B @ qc)))) + B.T @ Ar.T @ pr\n",
    "    gradient = B.T @ (r * w * np.absolute(w)) + B.T @ Ar.T @ pr\n",
    "    \n",
    "    # ---> A COMPLETER\n",
    "    \n",
    "    hessien = B.T@np.diag(2*r*(np.absolute(q0 + (B @ qc))))@B\n",
    "    return critere, gradient, hessien"
   ]
  },
  {
   "cell_type": "markdown",
   "metadata": {},
   "source": [
    "### On teste la validité des oracles en résolvant le problème :\n",
    "\n",
    "* **OraclePG** avec la méthode du gradient à pas fixe,\n",
    "* **OraclePH** avec la méthode de Newton à pas fixe"
   ]
  },
  {
   "cell_type": "code",
   "execution_count": 9,
   "metadata": {},
   "outputs": [
    {
     "name": "stdout",
     "output_type": "stream",
     "text": [
      "\n",
      "MINIMISATION DU PROBLEME PRIMAL\n",
      "\n",
      "ALGORITHME DU GRADIENT A PAS FIXE\n",
      "\n",
      "Iteration : 4165\n",
      "Temps CPU : 0.171875\n",
      "Critere optimal : -3.734007048043493\n",
      "Norme du gradient : 9.993573951819302e-07\n"
     ]
    },
    {
     "data": {
      "image/png": "[encoded data removed]",
      "text/plain": [
       "<Figure size 432x288 with 2 Axes>"
      ]
     },
     "metadata": {
      "needs_background": "light"
     },
     "output_type": "display_data"
    },
    {
     "name": "stdout",
     "output_type": "stream",
     "text": [
      "\n",
      "Verification des equations d'equilibre du reseau\n",
      "Sur les debits : 1.1102230246251565e-16\n",
      "Sur les pressions : 9.993524241469487e-07\n"
     ]
    }
   ],
   "source": [
    "x0 = 0.1 * random.normal(size=n-md)\n",
    "print()\n",
    "print(\"MINIMISATION DU PROBLEME PRIMAL\")\n",
    "print()\n",
    "print(\"ALGORITHME DU GRADIENT A PAS FIXE\")\n",
    "copt, gopt, xopt = Gradient_F(OraclePG, x0, 0.0005)\n",
    "qopt, zopt, fopt, popt = HydrauliqueP(xopt, m, mr, md, r, pr, fd, Ar, AdI, B, q0)\n",
    "Verification(A, qopt, zopt, fopt, popt)"
   ]
  },
  {
   "cell_type": "code",
   "execution_count": 10,
   "metadata": {},
   "outputs": [
    {
     "name": "stdout",
     "output_type": "stream",
     "text": [
      "\n",
      "MINIMISATION DU PROBLEME PRIMAL\n",
      "\n",
      "ALGORITHME DE NEWTON A PAS FIXE\n",
      "\n",
      "Iteration : 6\n",
      "Temps CPU : 0.0\n",
      "Critere optimal : -3.7340070480435603\n",
      "Norme du gradient : 3.531493792983385e-13\n"
     ]
    },
    {
     "data": {
      "image/png": "[encoded data removed]",
      "text/plain": [
       "<Figure size 432x288 with 2 Axes>"
      ]
     },
     "metadata": {
      "needs_background": "light"
     },
     "output_type": "display_data"
    },
    {
     "name": "stdout",
     "output_type": "stream",
     "text": [
      "\n",
      "Verification des equations d'equilibre du reseau\n",
      "Sur les debits : 6.938893903907228e-17\n",
      "Sur les pressions : 3.129753400887836e-13\n"
     ]
    }
   ],
   "source": [
    "x0 = 0.1 * random.normal(size=n-md)\n",
    "print()\n",
    "print(\"MINIMISATION DU PROBLEME PRIMAL\")\n",
    "print()\n",
    "print(\"ALGORITHME DE NEWTON A PAS FIXE\")\n",
    "copt, gopt, xopt = Newton_F(OraclePH, x0, 1)\n",
    "qopt, zopt, fopt, popt = HydrauliqueP(xopt, m, mr, md, r, pr, fd, Ar, AdI, B, q0)\n",
    "Verification(A, qopt, zopt, fopt, popt)"
   ]
  },
  {
   "cell_type": "markdown",
   "metadata": {},
   "source": [
    "### I.b On écrit l'algorithme de recherche linéaire (conditions de Wolfe)."
   ]
  },
  {
   "cell_type": "code",
   "execution_count": 11,
   "metadata": {},
   "outputs": [],
   "source": [
    "####stop @@ and run the second one\n",
    "def Wolfe(alpha, x, D, Oracle):\n",
    "    \n",
    "    from numpy import dot\n",
    "    from numpy import inf\n",
    "    from numpy.linalg import norm\n",
    "\n",
    "    ##### Coefficients de la recherche lineaire\n",
    "    \n",
    "    omega_1 = 0.1\n",
    "    omega_2 = 0.9\n",
    "    \n",
    "    alpha_min = 0\n",
    "    alpha_max = inf\n",
    "    \n",
    "    ok = 0\n",
    "    dltx = 0.00000001\n",
    "\n",
    "    ##### Algorithme de Fletcher-Lemarechal\n",
    "    \n",
    "    # Appel de l'oracle au point initial\n",
    "    argout = Oracle(x)\n",
    "    critere = argout[0]\n",
    "    gradient = argout[1]\n",
    "    # Initialisation de l'algorithme\n",
    "    alpha_n = alpha\n",
    "    \n",
    "    xn = x\n",
    "    \n",
    "    # Boucle de calcul du pas\n",
    "    # xn represente le point pour la valeur courante du pas,\n",
    "    # xp represente le point pour la valeur precedente du pas.\n",
    "    while ok == 0:\n",
    "        \n",
    "        # Point precedent pour tester l'indistinguabilite\n",
    "        xp = xn\n",
    "        \n",
    "        # Point actuel\n",
    "        xn = x + alpha_n*D\n",
    "        \n",
    "        ###\n",
    "        # to save the last value of the function and gradient\n",
    "        criterep  = critere\n",
    "        gk  = gradient\n",
    "        # to compoute the next value for the function and gradient\n",
    "        arg = Oracle(xn)\n",
    "        critere = arg[0]\n",
    "        gradient = arg[1]\n",
    "        ###\n",
    "        \n",
    "        # Calcul des conditions de Wolfe\n",
    "        #\n",
    "        # ---> A COMPLETER\n",
    "        ###\n",
    "        # first condition\n",
    "        condition_1 = critere <= (criterep + omega_1 * alpha_n * gk.T @ D)\n",
    "\n",
    "        ###\n",
    "        # ---> A COMPLETER\n",
    "        ###\n",
    "        \n",
    "        # second condition\n",
    "        condition_2 = gradient.T @ D >= omega_2 * gk.T @ D\n",
    "        # Test des conditions de Wolfe\n",
    "        #\n",
    "        # - Si les deux conditions de Wolfe sont verifiees,\n",
    "        #   poser ok = 1 : on sort alors de la boucle while\n",
    "        # - Sinon, modifier la valeur de alphan et reboucler\n",
    "        #\n",
    "        # ---> A COMPLETER\n",
    "        ###\n",
    "        if condition_1 and condition_2:\n",
    "            ok = 1\n",
    "            \n",
    "        elif not(condition_1) :\n",
    "            alpha_max = alpha_n\n",
    "            alpha_n = 0.5*(alpha_max + alpha_min)\n",
    "        \n",
    "        ###\n",
    "        # ---> A COMPLETER\n",
    "        ###\n",
    "        elif not(condition_2):\n",
    "            alpha_min = alpha_n\n",
    "            if alpha_max == inf:\n",
    "                alpha_n = 2.*alpha_min\n",
    "            else:\n",
    "                alpha_n = 0.5*(alpha_max + alpha_min)\n",
    "    \n",
    "            \n",
    "        \n",
    "        ###\n",
    "        # Test d'indistinguabilite\n",
    "        if norm(xn - xp) < dltx:\n",
    "            ok = 2\n",
    "\n",
    "    return alpha_n, ok"
   ]
  },
  {
   "cell_type": "code",
   "execution_count": 10,
   "metadata": {},
   "outputs": [],
   "source": [
    "def Wolfe(alpha, x, D, Oracle):\n",
    "   \n",
    "    from numpy import dot\n",
    "    from numpy import inf\n",
    "    from numpy.linalg import norm\n",
    "\n",
    "    ##### Coefficients de la recherche lineaire\n",
    "   \n",
    "    omega_1 = 0.1\n",
    "    omega_2 = 0.9\n",
    "   \n",
    "    alpha_min = 0\n",
    "    alpha_max = inf\n",
    "   \n",
    "    ok = 0\n",
    "    dltx = 0.00000001\n",
    "\n",
    "    ##### Algorithme de Fletcher-Lemarechal\n",
    "   \n",
    "    # Appel de l'oracle au point initial\n",
    "    argout = Oracle(x)\n",
    "    critere = argout[0]\n",
    "    gradient = argout[1]\n",
    "   \n",
    "    # Initialisation de l'algorithme\n",
    "    alpha_n = alpha\n",
    "    xn = x\n",
    "   \n",
    "    # Boucle de calcul du pas\n",
    "    # xn represente le point pour la valeur courante du pas,\n",
    "    # xp represente le point pour la valeur precedente du pas.\n",
    "    while ok == 0:\n",
    "       \n",
    "        # Point precedent pour tester l'indistinguabilite\n",
    "        xp = xn\n",
    "       \n",
    "        # Point actuel\n",
    "        xn = x + alpha_n*D\n",
    "       \n",
    "        C1 = (Oracle(xn)[0] <=  critere + omega_1*alpha_n*(gradient.T@D))\n",
    "        C2 = (Oracle(xn)[1].T@D >= omega_2*gradient.T@D)\n",
    "        if (C1 and C2) :\n",
    "            ok=1\n",
    "        else :\n",
    "            if C1==False :\n",
    "                alpha_max = alpha_n\n",
    "                alpha_n = (alpha_max+alpha_min)/2\n",
    "            else :\n",
    "                alpha_min = alpha_n\n",
    "                if alpha_max == inf :\n",
    "                    alpha_n = 2*alpha_min\n",
    "                else :\n",
    "                    alpha_n = (alpha_max+alpha_min)/2\n",
    "        # Test des conditions de Wolfe\n",
    "        #\n",
    "        # - Si les deux conditions de Wolfe sont verifiees,\n",
    "        #   poser ok = 1 : on sort alors de la boucle while\n",
    "        # - Sinon, modifier la valeur de alphan et reboucler\n",
    "        #\n",
    "        # ---> A COMPLETER\n",
    "        # ---> A COMPLETER\n",
    "       \n",
    "        # Test d'indistinguabilite\n",
    "        if (norm(xn - xp) < dltx) :\n",
    "            ok = 2\n",
    "\n",
    "    return alpha_n, ok"
   ]
  },
  {
   "cell_type": "code",
   "execution_count": 11,
   "metadata": {},
   "outputs": [],
   "source": [
    "def Wolfe(alpha, x, D, Oracle):\n",
    "   \n",
    "    from numpy import dot\n",
    "    from numpy import inf\n",
    "    from numpy.linalg import norm\n",
    "\n",
    "    ##### Coefficients de la recherche lineaire\n",
    "   \n",
    "    omega_1 = 0.1\n",
    "    omega_2 = 0.9\n",
    "   \n",
    "    alpha_min = 0\n",
    "    alpha_max = inf\n",
    "   \n",
    "    ok = 0\n",
    "    dltx = 0.00000001\n",
    "\n",
    "    ##### Algorithme de Fletcher-Lemarechal\n",
    "   \n",
    "    # Appel de l'oracle au point initial\n",
    "    argout = Oracle(x)\n",
    "    critere = argout[0]\n",
    "    gradient = argout[1]\n",
    "   \n",
    "    # Initialisation de l'algorithme\n",
    "    alpha_n = alpha\n",
    "    xn = x\n",
    "   \n",
    "    # Boucle de calcul du pas\n",
    "    # xn represente le point pour la valeur courante du pas,\n",
    "    # xp represente le point pour la valeur precedente du pas.\n",
    "    while ok == 0:\n",
    "       \n",
    "        # Test des conditions de Wolfe\n",
    "        #\n",
    "        # - Si les deux conditions de Wolfe sont verifiees,\n",
    "        #   poser ok = 1 : on sort alors de la boucle while\n",
    "        # - Sinon, modifier la valeur de alphan et reboucler\n",
    "        #\n",
    "        # ---> A COMPLETER\n",
    "        \n",
    "        # Point precedent pour tester l'indistinguabilite\n",
    "        xp = xn\n",
    "        \n",
    "        # Point actuel\n",
    "        xn = x + alpha_n*D\n",
    "        argout = Oracle(xn)\n",
    "        critere_n = argout[0]\n",
    "        gradient_n = argout[1]\n",
    "        \n",
    "        #critere_n, gradient_n = Oracle(xn)\n",
    "        \n",
    "        if (critere_n > critere + omega_1*alpha_n*dot(gradient,D)):\n",
    "            alpha_max = alpha_n\n",
    "            alpha_n = 0.5*(alpha_min + alpha_max)\n",
    "        elif (dot(gradient_n,D) < omega_2*dot(gradient,D)):\n",
    "            alpha_min = alpha_n\n",
    "            if alpha_max == inf:\n",
    "                alpha_n = 2*alpha_min\n",
    "            else:\n",
    "                alpha_n = 0.5*(alpha_min + alpha_max)\n",
    "        else:\n",
    "            ok = 1\n",
    "        \n",
    "        # ---> A COMPLETER\n",
    "       \n",
    "        # Test d'indistinguabilite\n",
    "        if (norm(xn - xp) < dltx) :\n",
    "            ok = 2\n",
    "\n",
    "    return alpha_n, ok"
   ]
  },
  {
   "cell_type": "markdown",
   "metadata": {},
   "source": [
    "### I.c On écrit l'algorithme du gradient à pas variable et on le teste"
   ]
  },
  {
   "cell_type": "code",
   "execution_count": 12,
   "metadata": {},
   "outputs": [],
   "source": [
    "def Gradient_V(Oracle, x0, alpha0):\n",
    "    \n",
    "    from numpy.linalg import norm\n",
    "    from time import process_time\n",
    "    \n",
    "    ##### Initialisation des variables\n",
    "\n",
    "    iter_max = 1000\n",
    "    default_gradient_step = alpha0\n",
    "    threshold = 0.000001\n",
    "    \n",
    "    gradient_norm_list = []\n",
    "    gradient_step_list = []\n",
    "    critere_list = []\n",
    "    \n",
    "    time_start = process_time()\n",
    "\n",
    "    x = x0\n",
    "\n",
    "    ##### Boucle sur les iterations\n",
    "\n",
    "    for k in range(iter_max):\n",
    "        \n",
    "        # ---> A COMPLETER\n",
    "        \n",
    "        # Valeur du critere et du gradient\n",
    "        critere, gradient = Oracle(x)\n",
    "        \n",
    "        # Test de convergence\n",
    "        gradient_norm = norm(gradient)\n",
    "        if gradient_norm <= threshold:\n",
    "            break\n",
    "            \n",
    "        # Direction de descente\n",
    "        direction = -gradient\n",
    "        \n",
    "        \n",
    "        \n",
    "        #wolf algorithm \n",
    "        arg_out = Wolfe(default_gradient_step, x, direction, Oracle)\n",
    "        gradient_step = arg_out[0]\n",
    "        \n",
    "        \n",
    "        x = x + gradient_step * direction\n",
    "        \n",
    "        gradient_norm_list.append(gradient_norm)\n",
    "        gradient_step_list.append(gradient_step)\n",
    "        critere_list.append(critere)\n",
    "        \n",
    "        # ---> A COMPLETER\n",
    "    \n",
    "    ##### Resultats de l'optimisation\n",
    "    critere_opt = critere\n",
    "    gradient_opt = gradient\n",
    "    x_opt = x\n",
    "    time_cpu = process_time() - time_start\n",
    "\n",
    "    print()\n",
    "    print('Iteration :', k)\n",
    "    print('Temps CPU :', time_cpu)\n",
    "    print('Critere optimal :', critere_opt)\n",
    "    print('Norme du gradient :', norm(gradient_opt))\n",
    "    \n",
    "    # Visualisation de la convergence\n",
    "    Visualg(gradient_norm_list, gradient_step_list, critere_list)\n",
    "    \n",
    "    return critere_opt, gradient_opt, x_opt"
   ]
  },
  {
   "cell_type": "code",
   "execution_count": 13,
   "metadata": {
    "scrolled": true
   },
   "outputs": [
    {
     "name": "stdout",
     "output_type": "stream",
     "text": [
      "\n",
      "MINIMISATION DU PROBLEME PRIMAL\n",
      "\n",
      "ALGORITHME DU GRADIENT A PAS VARIABLE\n",
      "\n",
      "Iteration : 288\n",
      "Temps CPU : 0.1875\n",
      "Critere optimal : -3.7340070480435106\n",
      "Norme du gradient : 8.826548824637046e-07\n"
     ]
    },
    {
     "data": {
      "image/png": "[encoded data removed]",
      "text/plain": [
       "<Figure size 432x288 with 2 Axes>"
      ]
     },
     "metadata": {
      "needs_background": "light"
     },
     "output_type": "display_data"
    },
    {
     "name": "stdout",
     "output_type": "stream",
     "text": [
      "\n",
      "Verification des equations d'equilibre du reseau\n",
      "Sur les debits : 5.551115123125783e-17\n",
      "Sur les pressions : 8.688758733610413e-07\n"
     ]
    }
   ],
   "source": [
    "x0 = 0.1 * random.normal(size=n-md)\n",
    "print()\n",
    "print(\"MINIMISATION DU PROBLEME PRIMAL\")\n",
    "print()\n",
    "print(\"ALGORITHME DU GRADIENT A PAS VARIABLE\")\n",
    "copt, gopt, xopt = Gradient_V(OraclePG, x0, 1)\n",
    "qopt, zopt, fopt, popt = HydrauliqueP(xopt, m, mr, md, r, pr, fd, Ar, AdI, B, q0)\n",
    "Verification(A, qopt, zopt, fopt, popt)"
   ]
  },
  {
   "cell_type": "markdown",
   "metadata": {},
   "source": [
    "### I.d On écrit l'algorithme de gradient conjugué (Polak-Ribière) et on le teste"
   ]
  },
  {
   "cell_type": "code",
   "execution_count": 14,
   "metadata": {},
   "outputs": [],
   "source": [
    "def PolakRibiere(Oracle, x0, alpha0):\n",
    "    \n",
    "    from numpy import dot\n",
    "    from numpy.linalg import norm\n",
    "    from time import process_time\n",
    "    \n",
    "    ##### Initialisation des variables\n",
    "\n",
    "    iter_max = 1000\n",
    "    default_gradient_step = alpha0\n",
    "    threshold = 0.000001\n",
    "    \n",
    "    gradient_norm_list = []\n",
    "    gradient_step_list = []\n",
    "    critere_list = []\n",
    "    \n",
    "    time_start = process_time()\n",
    "\n",
    "    x = x0\n",
    "    \n",
    "    ##### Boucle sur les iterations\n",
    "    \n",
    "    for k in range(iter_max):\n",
    "        \n",
    "        # ---> A COMPLETER\n",
    "        \n",
    "        # Valeur du critere et du gradient\n",
    "        critere, gradient = Oracle(x)\n",
    "        \n",
    "        # Test de convergence\n",
    "        gradient_norm = norm(gradient)\n",
    "        if gradient_norm <= threshold:\n",
    "            break\n",
    "            \n",
    "        # Direction de descente\n",
    "        if k == 0:\n",
    "            direction = -gradient\n",
    "        else:\n",
    "            bita = (gradient.T@(gradient - per_gradient))/norm(per_gradient)**2\n",
    "            direction = -gradient + bita * per_direction\n",
    "        \n",
    "        \n",
    "        #wolf algorithm \n",
    "        arg_out = Wolfe(default_gradient_step, x, direction, Oracle)\n",
    "        gradient_step = arg_out[0]\n",
    "        \n",
    "        \n",
    "        x = x + gradient_step * direction\n",
    "        \n",
    "        per_gradient = gradient\n",
    "        per_direction = direction\n",
    "        \n",
    "        gradient_norm_list.append(gradient_norm)\n",
    "        gradient_step_list.append(gradient_step)\n",
    "        critere_list.append(critere)\n",
    "        \n",
    "        # ---> A COMPLETER\n",
    "        #\n",
    "        # Attention a l'initialisation de l'algorithme !\n",
    "    \n",
    "    # Resultat de l'optimisation\n",
    "    critere_opt = critere\n",
    "    gradient_opt = gradient\n",
    "    x_opt = x\n",
    "    time_cpu = process_time() - time_start\n",
    "\n",
    "    print()\n",
    "    print('Iteration :', k)\n",
    "    print('Temps CPU :', time_cpu)\n",
    "    print('Critere optimal :', critere_opt)\n",
    "    print('Norme du gradient :', norm(gradient_opt))\n",
    "        \n",
    "    # Visualisation de la convergence\n",
    "    Visualg(gradient_norm_list, gradient_step_list, critere_list)\n",
    "    \n",
    "    return critere_opt, gradient_opt, x_opt"
   ]
  },
  {
   "cell_type": "code",
   "execution_count": 15,
   "metadata": {},
   "outputs": [
    {
     "name": "stdout",
     "output_type": "stream",
     "text": [
      "\n",
      "MINIMISATION DU PROBLEME PRIMAL\n",
      "\n",
      "ALGORITHME DU GRADIENT CONJUGUE\n",
      "\n",
      "Iteration : 204\n",
      "Temps CPU : 0.125\n",
      "Critere optimal : -3.734007048043564\n",
      "Norme du gradient : 3.5070826337719303e-07\n"
     ]
    },
    {
     "data": {
      "image/png": "[encoded data removed]",
      "text/plain": [
       "<Figure size 432x288 with 2 Axes>"
      ]
     },
     "metadata": {
      "needs_background": "light"
     },
     "output_type": "display_data"
    },
    {
     "name": "stdout",
     "output_type": "stream",
     "text": [
      "\n",
      "Verification des equations d'equilibre du reseau\n",
      "Sur les debits : 6.938893903907228e-17\n",
      "Sur les pressions : 2.1027067376166997e-07\n"
     ]
    }
   ],
   "source": [
    "x0 = 0.1 * random.normal(size=n-md)\n",
    "print()\n",
    "print(\"MINIMISATION DU PROBLEME PRIMAL\")\n",
    "print()\n",
    "print(\"ALGORITHME DU GRADIENT CONJUGUE\")\n",
    "copt, gopt, xopt = PolakRibiere(OraclePG, x0, 1)\n",
    "qopt, zopt, fopt, popt = HydrauliqueP(xopt, m, mr, md, r, pr, fd, Ar, AdI, B, q0)\n",
    "Verification(A, qopt, zopt, fopt, popt)"
   ]
  },
  {
   "cell_type": "markdown",
   "metadata": {},
   "source": [
    "### I.e On écrit l'algorithme de quasi-Newton (BFGS) et on le teste"
   ]
  },
  {
   "cell_type": "code",
   "execution_count": 53,
   "metadata": {},
   "outputs": [],
   "source": [
    "def BFGS(Oracle, x0, alpha0):\n",
    "    \n",
    "    from numpy import dot\n",
    "    from numpy import eye\n",
    "    from numpy import outer\n",
    "    from numpy import vdot\n",
    "    from numpy.linalg import norm\n",
    "    from time import process_time\n",
    "    \n",
    "    ##### Initialisation des variables\n",
    "\n",
    "    iter_max = 250\n",
    "    default_gradient_step = alpha0\n",
    "    threshold = 0.000001\n",
    "    \n",
    "    gradient_norm_list = []\n",
    "    gradient_step_list = []\n",
    "    critere_list = []\n",
    "    \n",
    "    time_start = process_time()\n",
    "\n",
    "    x = x0\n",
    "\n",
    "    ##### Boucle sur les iterations\n",
    "    \n",
    "    for k in range(iter_max):\n",
    " \n",
    "        # ---> A COMPLETER\n",
    "        \n",
    "        # Valeur du critere et du gradient\n",
    "        critere, gradient = Oracle(x)\n",
    "        \n",
    "        # Test de convergence\n",
    "        gradient_norm = norm(gradient)\n",
    "        if gradient_norm <= threshold:\n",
    "            break\n",
    "            \n",
    "        dim = x.shape[0]       \n",
    "        # Direction de descente\n",
    "        if k == 0:\n",
    "            W_m = np.identity(dim)\n",
    "            direction = -W_m @ gradient\n",
    "        else:\n",
    "            d_x = (x - x_pre)\n",
    "            d_g = (gradient - pre_gradient)\n",
    "            \n",
    "            d = 1/ np.dot(d_g, d_x)\n",
    "            \n",
    "            \n",
    "            multi_x = np.identity(dim) - d*outer(d_x,d_g)\n",
    "            \n",
    "            multi_g = np.identity(dim) - d*outer(d_g, d_x)\n",
    "            \n",
    "            pre_W_m = W_m\n",
    "            \n",
    "            W_m = multi_x @ pre_W_m @ multi_g +  d*outer(d_x , d_x)\n",
    "            \n",
    "            direction = -W_m @ gradient\n",
    "            \n",
    "        \n",
    "        \n",
    "        #wolf algorithm \n",
    "        arg_out = Wolfe(default_gradient_step, x, direction, Oracle)\n",
    "        gradient_step = arg_out[0]\n",
    "        \n",
    "        x_pre = x\n",
    "        \n",
    "        x = x + (gradient_step * direction)\n",
    "        \n",
    "        \n",
    "        pre_gradient = gradient\n",
    "        \n",
    "        gradient_norm_list.append(gradient_norm)\n",
    "        gradient_step_list.append(gradient_step)\n",
    "        critere_list.append(critere)\n",
    "        \n",
    "        \n",
    "        \n",
    "        # ---> A COMPLETER\n",
    "        #\n",
    "        # Attention a l'initialisation de l'algorithme !\n",
    "    \n",
    "    # Resultat de l'optimisation\n",
    "    critere_opt = critere\n",
    "    gradient_opt = gradient\n",
    "    x_opt = x\n",
    "    time_cpu = process_time() - time_start\n",
    "\n",
    "    print()\n",
    "    print('Iteration :', k)\n",
    "    print('Temps CPU :', time_cpu)\n",
    "    print('Critere optimal :', critere_opt)\n",
    "    print('Norme du gradient :', norm(gradient_opt))\n",
    "        \n",
    "    # Visualisation de la convergence\n",
    "    Visualg(gradient_norm_list, gradient_step_list, critere_list)\n",
    "    \n",
    "    return critere_opt, gradient_opt, x_opt"
   ]
  },
  {
   "cell_type": "code",
   "execution_count": 54,
   "metadata": {},
   "outputs": [
    {
     "name": "stdout",
     "output_type": "stream",
     "text": [
      "\n",
      "MINIMISATION DU PROBLEME PRIMAL\n",
      "\n",
      "ALGORITHME DE QUASI-NEWTON\n",
      "\n",
      "Iteration : 24\n",
      "Temps CPU : 0.046875\n",
      "Critere optimal : -3.7340070480435656\n",
      "Norme du gradient : 6.675445794122342e-07\n"
     ]
    },
    {
     "data": {
      "image/png": "[encoded data removed]",
      "text/plain": [
       "<Figure size 432x288 with 2 Axes>"
      ]
     },
     "metadata": {
      "needs_background": "light"
     },
     "output_type": "display_data"
    },
    {
     "name": "stdout",
     "output_type": "stream",
     "text": [
      "\n",
      "Verification des equations d'equilibre du reseau\n",
      "Sur les debits : 9.71445146547012e-17\n",
      "Sur les pressions : 3.9122045691897256e-07\n"
     ]
    }
   ],
   "source": [
    "x0 = 0.1 * random.normal(size=n-md)\n",
    "print()\n",
    "print(\"MINIMISATION DU PROBLEME PRIMAL\")\n",
    "print()\n",
    "print(\"ALGORITHME DE QUASI-NEWTON\")\n",
    "copt, gopt, xopt = BFGS(OraclePG, x0, 1)\n",
    "qopt, zopt, fopt, popt = HydrauliqueP(xopt, m, mr, md, r, pr, fd, Ar, AdI, B, q0)\n",
    "Verification(A, qopt, zopt, fopt, popt)"
   ]
  },
  {
   "cell_type": "markdown",
   "metadata": {},
   "source": [
    "### I.f On écrit l'algorithme de Newton à pas variable et on le teste"
   ]
  },
  {
   "cell_type": "code",
   "execution_count": 96,
   "metadata": {},
   "outputs": [],
   "source": [
    "def f(alpha, *args):\n",
    "    step = alpha\n",
    "    x, direction = args\n",
    "    qc = x + step*direction\n",
    "    w = q0+(B @ qc)\n",
    "    return ((1/3)* ((w)@(r * w * (np.absolute(w)))) + (pr @ (Ar @ w)))"
   ]
  },
  {
   "cell_type": "code",
   "execution_count": 104,
   "metadata": {},
   "outputs": [],
   "source": [
    "def gradf(alpha, *args):\n",
    "    import numpy as np\n",
    "    step = step = alpha\n",
    "    x, direction = args\n",
    "    qc = x + step*direction\n",
    "    w = q0+(B @ qc)\n",
    "    return (np.dot(direction ,(B.T @ (r * w * np.absolute(w)) + B.T @ Ar.T @ pr)))"
   ]
  },
  {
   "cell_type": "code",
   "execution_count": 113,
   "metadata": {},
   "outputs": [],
   "source": [
    "def Newton_V(Oracle, x0, alpha0):\n",
    "    \n",
    "    from numpy.linalg import norm\n",
    "    from numpy.linalg import solve\n",
    "    from time import process_time\n",
    "    from scipy import optimize \n",
    "    \n",
    "    ##### Initialisation des variables  \n",
    "    \n",
    "    iter_max = 10000\n",
    "    default_gradient_step = alpha0\n",
    "    threshold = 0.000001\n",
    "    \n",
    "    gradient_norm_list = []\n",
    "    gradient_step_list = []\n",
    "    critere_list = []\n",
    "\n",
    "    time_start = process_time()\n",
    "    \n",
    "    x = x0\n",
    "\n",
    "    ##### Boucle sur les iterations\n",
    "    \n",
    "    for k in range(iter_max):\n",
    "        \n",
    "        # ---> A COMPLETER\n",
    "        # Valeur du critere et du gradient\n",
    "        critere, gradient = Oracle(x)\n",
    "        \n",
    "        # Test de convergence\n",
    "        gradient_norm = norm(gradient)\n",
    "        if gradient_norm <= threshold:\n",
    "            break\n",
    "            \n",
    "        # Direction de descente\n",
    "        direction = - gradient\n",
    "        \n",
    "        print(direction.shape)\n",
    "        \n",
    "        \n",
    "        \n",
    "        #wolf algorithm \n",
    "        #arg_out = Wolfe(default_gradient_step, x, direction, Oracle)\n",
    "        gradient_step = optimize.fmin_ncg(f, default_gradient_step,fprime = gradf ,  args=(x, direction)) \n",
    "        \n",
    "        \n",
    "        \n",
    "        \n",
    "        # Mise a jour des variables\n",
    "        x = x + (gradient_step*direction)\n",
    "        \n",
    "        gradient_norm_list.append(gradient_norm)\n",
    "        gradient_step_list.append(gradient_step[0])\n",
    "        critere_list.append(critere)\n",
    "        \n",
    "        # ---> A COMPLETER\n",
    "           \n",
    "    ##### Resultats de l'optimisation\n",
    "    \n",
    "    critere_opt = critere\n",
    "    gradient_opt = gradient\n",
    "    x_opt = x\n",
    "    time_cpu = process_time() - time_start\n",
    "\n",
    "    print()\n",
    "    print('Iteration :', k)\n",
    "    print('Temps CPU :', time_cpu)\n",
    "    print('Critere optimal :', critere_opt)\n",
    "    print('Norme du gradient :', norm(gradient_opt))\n",
    "    \n",
    "    # Visualisation de la convergence\n",
    "    Visualg(gradient_norm_list, gradient_step_list, critere_list)\n",
    "    \n",
    "    return critere_opt, gradient_opt, x_opt"
   ]
  },
  {
   "cell_type": "code",
   "execution_count": 115,
   "metadata": {},
   "outputs": [],
   "source": [
    "def Newton_V(Oracle, x0, alpha0):\n",
    "    \n",
    "    from numpy.linalg import norm\n",
    "    from numpy.linalg import solve\n",
    "    from time import process_time\n",
    "    from scipy import optimize \n",
    "    \n",
    "    ##### Initialisation des variables  \n",
    "    \n",
    "    iter_max = 100\n",
    "    default_gradient_step = alpha0\n",
    "    threshold = 0.000001\n",
    "    \n",
    "    gradient_norm_list = []\n",
    "    gradient_step_list = []\n",
    "    critere_list = []\n",
    "\n",
    "    time_start = process_time()\n",
    "    \n",
    "    x = x0\n",
    "\n",
    "    ##### Boucle sur les iterations\n",
    "    \n",
    "    for k in range(iter_max):\n",
    "        \n",
    "        # ---> A COMPLETER\n",
    "        # Valeur du critere et du gradient\n",
    "        critere, gradient, hessien = Oracle(x)\n",
    "        \n",
    "        # Test de convergence\n",
    "        gradient_norm = norm(gradient)\n",
    "        if gradient_norm <= threshold:\n",
    "            break\n",
    "            \n",
    "        # Direction de descente\n",
    "        direction = - solve(hessien, gradient)\n",
    "        \n",
    "        \n",
    "        \n",
    "        \n",
    "        \n",
    "        #wolf algorithm \n",
    "        #arg_out = Wolfe(default_gradient_step, x, direction, Oracle)\n",
    "        gradient_step = optimize.fmin_ncg(f, default_gradient_step,fprime = gradf, args=(x, direction)) \n",
    "        \n",
    "        \n",
    "        \n",
    "        \n",
    "        # Mise a jour des variables\n",
    "        x = x + (gradient_step*direction)\n",
    "        \n",
    "        gradient_norm_list.append(gradient_norm)\n",
    "        gradient_step_list.append(gradient_step[0])\n",
    "        critere_list.append(critere)\n",
    "        \n",
    "        # ---> A COMPLETER\n",
    "           \n",
    "    ##### Resultats de l'optimisation\n",
    "    \n",
    "    critere_opt = critere\n",
    "    gradient_opt = gradient\n",
    "    x_opt = x\n",
    "    time_cpu = process_time() - time_start\n",
    "\n",
    "    print()\n",
    "    print('Iteration :', k)\n",
    "    print('Temps CPU :', time_cpu)\n",
    "    print('Critere optimal :', critere_opt)\n",
    "    print('Norme du gradient :', norm(gradient_opt))\n",
    "    \n",
    "    # Visualisation de la convergence\n",
    "    Visualg(gradient_norm_list, gradient_step_list, critere_list)\n",
    "    \n",
    "    return critere_opt, gradient_opt, x_opt"
   ]
  },
  {
   "cell_type": "code",
   "execution_count": 116,
   "metadata": {},
   "outputs": [
    {
     "name": "stdout",
     "output_type": "stream",
     "text": [
      "\n",
      "MINIMISATION DU PROBLEME PRIMAL\n",
      "\n",
      "ALGORITHME DE NEWTON A PAS VARIABLE\n",
      "Optimization terminated successfully.\n",
      "         Current function value: -1.579890\n",
      "         Iterations: 4\n",
      "         Function evaluations: 4\n",
      "         Gradient evaluations: 7\n",
      "         Hessian evaluations: 0\n",
      "Optimization terminated successfully.\n",
      "         Current function value: -3.684406\n",
      "         Iterations: 3\n",
      "         Function evaluations: 3\n",
      "         Gradient evaluations: 5\n",
      "         Hessian evaluations: 0\n",
      "Optimization terminated successfully.\n",
      "         Current function value: -3.733893\n",
      "         Iterations: 3\n",
      "         Function evaluations: 4\n",
      "         Gradient evaluations: 7\n",
      "         Hessian evaluations: 0\n",
      "Optimization terminated successfully.\n",
      "         Current function value: -3.734007\n",
      "         Iterations: 1\n",
      "         Function evaluations: 2\n",
      "         Gradient evaluations: 3\n",
      "         Hessian evaluations: 0\n",
      "Optimization terminated successfully.\n",
      "         Current function value: -3.734007\n",
      "         Iterations: 1\n",
      "         Function evaluations: 1\n",
      "         Gradient evaluations: 1\n",
      "         Hessian evaluations: 0\n",
      "\n",
      "Iteration : 5\n",
      "Temps CPU : 0.015625\n",
      "Critere optimal : -3.734007048043564\n",
      "Norme du gradient : 9.799719156496374e-09\n"
     ]
    },
    {
     "data": {
      "image/png": "[encoded data removed]",
      "text/plain": [
       "<Figure size 432x288 with 2 Axes>"
      ]
     },
     "metadata": {
      "needs_background": "light"
     },
     "output_type": "display_data"
    },
    {
     "name": "stdout",
     "output_type": "stream",
     "text": [
      "\n",
      "Verification des equations d'equilibre du reseau\n",
      "Sur les debits : 6.938893903907228e-17\n",
      "Sur les pressions : 9.082724714698509e-09\n"
     ]
    }
   ],
   "source": [
    "x0 = 0.1 * random.normal(size=n-md)\n",
    "print()\n",
    "print(\"MINIMISATION DU PROBLEME PRIMAL\")\n",
    "print()\n",
    "print(\"ALGORITHME DE NEWTON A PAS VARIABLE\")\n",
    "copt, gopt, xopt = Newton_V(OraclePH, x0, 1)\n",
    "qopt, zopt, fopt, popt = HydrauliqueP(xopt, m, mr, md, r, pr, fd, Ar, AdI, B, q0)\n",
    "Verification(A, qopt, zopt, fopt, popt)"
   ]
  },
  {
   "cell_type": "markdown",
   "metadata": {},
   "source": [
    "## II. Résolution du problème dual"
   ]
  },
  {
   "cell_type": "code",
   "execution_count": null,
   "metadata": {},
   "outputs": [],
   "source": [
    "from HydrauliqueD import HydrauliqueD"
   ]
  },
  {
   "cell_type": "markdown",
   "metadata": {},
   "source": [
    "### II.a On écrit les oracles pour le problème dual d'optimisation :\n",
    "\n",
    "* **OracleDG** : calcul de la fonction et du gradient,\n",
    "* **OracleDH** : calcul de la fonction du gradient et du Hessien."
   ]
  },
  {
   "cell_type": "code",
   "execution_count": null,
   "metadata": {},
   "outputs": [],
   "source": [
    "def OracleDG(pd):\n",
    "    \n",
    "    # ---> A COMPLETER\n",
    "    # ---> A COMPLETER\n",
    "    \n",
    "    return critere, gradient"
   ]
  },
  {
   "cell_type": "code",
   "execution_count": null,
   "metadata": {},
   "outputs": [],
   "source": [
    "def OracleDH(pd):\n",
    "    \n",
    "    # ---> A COMPLETER\n",
    "    # ---> A COMPLETER\n",
    "    \n",
    "    return critere, gradient, hessien"
   ]
  },
  {
   "cell_type": "markdown",
   "metadata": {},
   "source": [
    "### II.b On exécute tous les algorithmes d'optimisation déjà écrits"
   ]
  },
  {
   "cell_type": "code",
   "execution_count": null,
   "metadata": {},
   "outputs": [],
   "source": [
    "x0 = 100 + random.normal(size=md)\n",
    "print()\n",
    "print(\"MINIMISATION DU PROBLEME DUAL\")\n",
    "print()\n",
    "print(\"ALGORITHME DU GRADIENT A PAS VARIABLE\")\n",
    "copt, gopt, xopt = Gradient_V(OracleDG, x0, 5)\n",
    "qopt, zopt, fopt, popt = HydrauliqueD(xopt, m, mr, r, pr, fd, A, Ar)\n",
    "Verification(A, qopt, zopt, fopt, popt)"
   ]
  },
  {
   "cell_type": "code",
   "execution_count": null,
   "metadata": {},
   "outputs": [],
   "source": [
    "x0 = 100 + random.normal(size=md)\n",
    "print()\n",
    "print(\"MINIMISATION DU PROBLEME DUAL\")\n",
    "print()\n",
    "print(\"ALGORITHME DU GRADIENT CONJUGUE\")\n",
    "copt, gopt, xopt = PolakRibiere(OracleDG, x0, 5)\n",
    "qopt, zopt, fopt, popt = HydrauliqueD(xopt, m, mr, r, pr, fd, A, Ar)\n",
    "Verification(A, qopt, zopt, fopt, popt)"
   ]
  },
  {
   "cell_type": "code",
   "execution_count": null,
   "metadata": {},
   "outputs": [],
   "source": [
    "x0 = 100 + random.normal(size=md)\n",
    "print()\n",
    "print(\"MINIMISATION DU PROBLEME DUAL\")\n",
    "print()\n",
    "print(\"ALGORITHME DE QUASI-NEWTON\")\n",
    "copt, gopt, xopt = BFGS(OracleDG, x0, 1)\n",
    "qopt, zopt, fopt, popt = HydrauliqueD(xopt, m, mr, r, pr, fd, A, Ar)\n",
    "Verification(A, qopt, zopt, fopt, popt)"
   ]
  },
  {
   "cell_type": "code",
   "execution_count": null,
   "metadata": {},
   "outputs": [],
   "source": [
    "x0 = 100 + random.normal(size=md)\n",
    "print()\n",
    "print(\"MINIMISATION DU PROBLEME DUAL\")\n",
    "print()\n",
    "print(\"ALGORITHME DE NEWTON A PAS VARIABLE\")\n",
    "copt, gopt, xopt = Newton_V(OracleDH, x0, 1)\n",
    "qopt, zopt, fopt, popt = HydrauliqueD(xopt, m, mr, r, pr, fd, A, Ar)\n",
    "Verification(A, qopt, zopt, fopt, popt)"
   ]
  },
  {
   "cell_type": "markdown",
   "metadata": {},
   "source": [
    "## III. Résolution de grands réseaux (facultatif)"
   ]
  },
  {
   "cell_type": "markdown",
   "metadata": {},
   "source": [
    "### On charge dans l'environnement les données du problème\n",
    "\n",
    "Ces données correspondent à un réseau de taille paramétrable."
   ]
  },
  {
   "cell_type": "code",
   "execution_count": null,
   "metadata": {},
   "outputs": [],
   "source": [
    "from Probleme_P import *\n",
    "from Structures_S import *"
   ]
  },
  {
   "cell_type": "markdown",
   "metadata": {},
   "source": [
    "### III.a On écrit des oracles primal et dual avec Hessien creux"
   ]
  },
  {
   "cell_type": "code",
   "execution_count": null,
   "metadata": {},
   "outputs": [],
   "source": [
    "def OraclePHS(qc):\n",
    "    \n",
    "    # ---> A COMPLETER\n",
    "    # ---> A COMPLETER\n",
    "    \n",
    "    return critere, gradient, hessien"
   ]
  },
  {
   "cell_type": "code",
   "execution_count": null,
   "metadata": {},
   "outputs": [],
   "source": [
    "def OracleDHS(pd):\n",
    "    \n",
    "    # ---> A COMPLETER\n",
    "    # ---> A COMPLETER\n",
    "    \n",
    "    return critere, gradient, hessien"
   ]
  },
  {
   "cell_type": "markdown",
   "metadata": {},
   "source": [
    "### III.b On écrit un algorithme de Newton exploitant le creux"
   ]
  },
  {
   "cell_type": "code",
   "execution_count": null,
   "metadata": {},
   "outputs": [],
   "source": [
    "def Newton_S(Oracle, x0, alpha0):\n",
    "    \n",
    "    from numpy.linalg import norm\n",
    "    from scipy.sparse.linalg import spsolve\n",
    "    from time import process_time\n",
    "    \n",
    "    ##### Initialisation des variables  \n",
    "    \n",
    "    iter_max = 100\n",
    "    default_gradient_step = alpha0\n",
    "    threshold = 0.000001\n",
    "    \n",
    "    gradient_norm_list = []\n",
    "    gradient_step_list = []\n",
    "    critere_list = []\n",
    "\n",
    "    time_start = process_time()\n",
    "    \n",
    "    x = x0\n",
    "\n",
    "    ##### Boucle sur les iterations\n",
    "    \n",
    "    for k in range(iter_max):\n",
    "        \n",
    "        # ---> A COMPLETER\n",
    "        # ---> A COMPLETER\n",
    "           \n",
    "    ##### Resultats de l'optimisation\n",
    "    \n",
    "    critere_opt = critere\n",
    "    gradient_opt = gradient\n",
    "    x_opt = x\n",
    "    time_cpu = process_time() - time_start\n",
    "\n",
    "    print()\n",
    "    print('Iteration :', k)\n",
    "    print('Temps CPU :', time_cpu)\n",
    "    print('Critere optimal :', critere_opt)\n",
    "    print('Norme du gradient :', norm(gradient_opt))\n",
    "    \n",
    "    # Visualisation de la convergence\n",
    "    Visualg(gradient_norm_list, gradient_step_list, critere_list)\n",
    "    \n",
    "    return critere_opt, gradient_opt, x_opt"
   ]
  },
  {
   "cell_type": "markdown",
   "metadata": {},
   "source": [
    "### III.c On résoud le problème dans le primal et dans le dual"
   ]
  },
  {
   "cell_type": "code",
   "execution_count": null,
   "metadata": {},
   "outputs": [],
   "source": [
    "x0 = 0.1 * random.normal(size=n-md)\n",
    "print()\n",
    "print(\"MINIMISATION DU PROBLEME PRIMAL DE GRANDE TAILLE\")\n",
    "print()\n",
    "print(\"ALGORITHME DE NEWTON A PAS VARIABLE\")\n",
    "copt, gopt, xopt = Newton_S(OraclePHS, x0, 1)\n",
    "qopt, zopt, fopt, popt = HydrauliqueP(xopt, m, mr, md, r, pr, fd, Ar, AdI, B, q0)\n",
    "Verification(A, qopt, zopt, fopt, popt)"
   ]
  },
  {
   "cell_type": "code",
   "execution_count": null,
   "metadata": {},
   "outputs": [],
   "source": [
    "x0 = 100 + random.normal(size=md)\n",
    "print()\n",
    "print(\"MINIMISATION DU PROBLEME DUAL DE GRANDE TAILLE\")\n",
    "print()\n",
    "print(\"ALGORITHME DE NEWTON A PAS VARIABLE\")\n",
    "copt, gopt, xopt = Newton_S(OracleDHS, x0, 1)\n",
    "qopt, zopt, fopt, popt = HydrauliqueD(xopt, m, mr, r, pr, fd, A, Ar)\n",
    "Verification(A, qopt, zopt, fopt, popt)"
   ]
  }
 ],
 "metadata": {
  "kernelspec": {
   "display_name": "Python 3",
   "language": "python",
   "name": "python3"
  },
  "language_info": {
   "codemirror_mode": {
    "name": "ipython",
    "version": 3
   },
   "file_extension": ".py",
   "mimetype": "text/x-python",
   "name": "python",
   "nbconvert_exporter": "python",
   "pygments_lexer": "ipython3",
   "version": "3.8.8"
  }
 },
 "nbformat": 4,
 "nbformat_minor": 2
}
